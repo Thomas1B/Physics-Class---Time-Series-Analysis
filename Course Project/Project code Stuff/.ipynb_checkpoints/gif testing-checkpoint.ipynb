{
 "cells": [
  {
   "cell_type": "code",
   "execution_count": 1,
   "id": "c386f6f0-75ac-4544-a390-d63b4da46ad2",
   "metadata": {},
   "outputs": [],
   "source": [
    "import glob\n",
    "from PIL import Image"
   ]
  },
  {
   "cell_type": "code",
   "execution_count": 46,
   "id": "1043774c-3541-4aca-881c-a59189fc6147",
   "metadata": {},
   "outputs": [],
   "source": [
    "def make_gif(frame_folder):\n",
    "    frames = [Image.open(image) for image in glob.glob(f\"{frame_folder}/*.jpeg\")]\n",
    "    frame_one = frames[0]\n",
    "    frame_one.save(frame_folder + \"test.gif\", format=\"GIF\", append_images=frames,\n",
    "               save_all=True, duration=2000, loop=0)\n",
    "    \n",
    "# if __name__ == \"__main__\":\n",
    "#     make_gif(\"/path/to/images\")"
   ]
  },
  {
   "cell_type": "code",
   "execution_count": 47,
   "id": "024f7e2e-a941-43f0-9f19-d1ba49902821",
   "metadata": {},
   "outputs": [],
   "source": [
    "FOLDER = '../Figures/Minute/HeatMaps/Monthly2021/'\n",
    "make_gif(FOLDER)"
   ]
  },
  {
   "cell_type": "code",
   "execution_count": null,
   "id": "db8b3d10-2bef-4dc2-935b-871e5be8a416",
   "metadata": {},
   "outputs": [],
   "source": []
  }
 ],
 "metadata": {
  "kernelspec": {
   "display_name": "Python 3 (ipykernel)",
   "language": "python",
   "name": "python3"
  },
  "language_info": {
   "codemirror_mode": {
    "name": "ipython",
    "version": 3
   },
   "file_extension": ".py",
   "mimetype": "text/x-python",
   "name": "python",
   "nbconvert_exporter": "python",
   "pygments_lexer": "ipython3",
   "version": "3.9.12"
  }
 },
 "nbformat": 4,
 "nbformat_minor": 5
}
