{
 "cells": [
  {
   "cell_type": "markdown",
   "id": "34ec4d65-591f-46a8-84f3-dc6d430a754a",
   "metadata": {},
   "source": [
    "# Minute resolution data Part of Project"
   ]
  },
  {
   "cell_type": "code",
   "execution_count": null,
   "id": "717712a0-436b-448f-bb7d-71cbf317fb0c",
   "metadata": {},
   "outputs": [],
   "source": [
    "from myPyPackages import myData, myDates, myStats, mySignal # custom modules.\n",
    "import numpy as np\n",
    "import matplotlib.pyplot as plt\n",
    "import pandas as pd\n",
    "from datetime import datetime as dt\n",
    "\n",
    "# Scipy modules\n",
    "import scipy.stats as sp_stats\n",
    "from scipy import integrate\n",
    "\n"
   ]
  },
  {
   "cell_type": "code",
   "execution_count": null,
   "id": "f378ee3f-ec8b-4252-91d8-9fa9c158ab55",
   "metadata": {},
   "outputs": [],
   "source": [
    "# Station Names\n",
    "Stations = ['UVicSci', 'Monterey', 'Craigflower', 'ShawniganLake','Cumberland']\n",
    "\n",
    "# Filepaths\n",
    "FILEPATH = '../../Data/{}'\n",
    "minutepath = '../../Data/UVicWeatherdata_Minute_2022/{}_Tp.dat'\n",
    "\n",
    "# Other Parameters. All data sets share these parameters.\n",
    "START = 736330.0     # start date \n",
    "END = 738733.99931   # end date\n",
    "N = 3461760          # number of data points\n",
    "#\n",
    "startStr = myDates.DateNumtoStr(START, 'min', giveTime=True)\n",
    "endStr = myDates.DateNumtoStr(END, 'min', giveTime=True)"
   ]
  },
  {
   "cell_type": "code",
   "execution_count": null,
   "id": "bb790afa-dc00-430e-93de-09285ec0a24a",
   "metadata": {},
   "outputs": [
    {
     "ename": "NameError",
     "evalue": "name 'Stations' is not defined",
     "output_type": "error",
     "traceback": [
      "\u001b[1;31m---------------------------------------------------------------------------\u001b[0m",
      "\u001b[1;31mNameError\u001b[0m                                 Traceback (most recent call last)",
      "File \u001b[1;32m<timed exec>:2\u001b[0m, in \u001b[0;36m<module>\u001b[1;34m\u001b[0m\n",
      "\u001b[1;31mNameError\u001b[0m: name 'Stations' is not defined"
     ]
    }
   ],
   "source": [
    "%%time\n",
    "\n",
    "# Reading in Minute data for all stations\n",
    "UVicSci, Monterey, Craigflower, ShawniganLake, Cumberland = [myData.readMinuteData(minutepath.format(station)) for station in Stations]\n",
    "Station_info = [myData.getStationInfo(station) for station in Stations]\n",
    "UVicSci_info, Monterey_info, Craigflower_info, ShawniganLake_info, Cumberland_info = Station_info\n",
    "\n",
    "\n",
    "\n",
    "# UVicSci = pd.concat([UVicSci, UVicSci_info], axis=1)\n",
    "# Monterey = pd.concat([Monterey, Monterey_info], axis=1)\n",
    "# Craigflower = pd.concat([Craigflower, Craigflower_info], axis=1)\n",
    "# ShawniganLake = pd.concat([ShawniganLake, ShawniganLake_info], axis=1)\n",
    "# Cumberland = pd.concat([Cumberland, Cumberland_info])"
   ]
  },
  {
   "cell_type": "code",
   "execution_count": null,
   "id": "efa9ec45-138b-4457-849e-524e65aa59a7",
   "metadata": {},
   "outputs": [
    {
     "ename": "NameError",
     "evalue": "name 'START' is not defined",
     "output_type": "error",
     "traceback": [
      "\u001b[1;31m---------------------------------------------------------------------------\u001b[0m",
      "\u001b[1;31mNameError\u001b[0m                                 Traceback (most recent call last)",
      "Input \u001b[1;32mIn [4]\u001b[0m, in \u001b[0;36m<cell line: 1>\u001b[1;34m()\u001b[0m\n\u001b[1;32m----> 1\u001b[0m ticks \u001b[38;5;241m=\u001b[39m np\u001b[38;5;241m.\u001b[39mlinspace(\u001b[43mSTART\u001b[49m, END, \u001b[38;5;241m6\u001b[39m)\n\u001b[0;32m      2\u001b[0m m \u001b[38;5;241m=\u001b[39m [myDates\u001b[38;5;241m.\u001b[39mDateNumtoStr(t, \u001b[38;5;124m'\u001b[39m\u001b[38;5;124mmin\u001b[39m\u001b[38;5;124m'\u001b[39m)\u001b[38;5;241m.\u001b[39msplit(\u001b[38;5;124m'\u001b[39m\u001b[38;5;124m/\u001b[39m\u001b[38;5;124m'\u001b[39m)[\u001b[38;5;241m1\u001b[39m] \u001b[38;5;28;01mfor\u001b[39;00m t \u001b[38;5;129;01min\u001b[39;00m ticks]\n\u001b[0;32m      3\u001b[0m y \u001b[38;5;241m=\u001b[39m [myDates\u001b[38;5;241m.\u001b[39mDateNumtoStr(t, \u001b[38;5;124m'\u001b[39m\u001b[38;5;124mmin\u001b[39m\u001b[38;5;124m'\u001b[39m)\u001b[38;5;241m.\u001b[39msplit(\u001b[38;5;124m'\u001b[39m\u001b[38;5;124m/\u001b[39m\u001b[38;5;124m'\u001b[39m)[\u001b[38;5;241m-\u001b[39m\u001b[38;5;241m1\u001b[39m] \u001b[38;5;28;01mfor\u001b[39;00m t \u001b[38;5;129;01min\u001b[39;00m ticks]\n",
      "\u001b[1;31mNameError\u001b[0m: name 'START' is not defined"
     ]
    }
   ],
   "source": [
    "ticks = np.linspace(START, END, 6)\n",
    "m = [myDates.DateNumtoStr(t, 'min').split('/')[1] for t in ticks]\n",
    "y = [myDates.DateNumtoStr(t, 'min').split('/')[-1] for t in ticks]\n",
    "tickLabels = [i + '/' + j for i, j in zip(m, y)]"
   ]
  },
  {
   "cell_type": "code",
   "execution_count": null,
   "id": "31b28741-f26b-4577-b404-fcfc7ef504ac",
   "metadata": {},
   "outputs": [],
   "source": [
    "# Plotting time series of temperature for all stations\n",
    "fig, axes = plt.subplots(5, 1, figsize=(12, 16), tight_layout=True)\n",
    "fig.suptitle(\"Temperature Plot for all Stations\",  y=.99, fontsize=18)\n",
    "\n",
    "\n",
    "xTitle = 'Time [MM/YYYY]'\n",
    "yTitle = \"Temperature [$^{\\circ} C$]\"\n",
    "\n",
    "axs = axes[0]\n",
    "axs.set_title(\"UVic Science Building\")\n",
    "axs.plot(UVicSci.times, UVicSci.temperature)\n",
    "axs.set_xticks(ticks)\n",
    "axs.set_xticklabels(tickLabels)\n",
    "\n",
    "axs = axes[1]\n",
    "axs.set_title(\"Monterey\")\n",
    "axs.plot(Monterey.times, Monterey.temperature, 'r')\n",
    "axs.set_xticks(ticks)\n",
    "axs.set_xticklabels(tickLabels)\n",
    "\n",
    "axs = axes[2]\n",
    "axs.set_title(\"Craigflower\")\n",
    "axs.plot(Craigflower.times, Craigflower.temperature, 'm')\n",
    "axs.set_xticks(ticks)\n",
    "axs.set_xticklabels(tickLabels)\n",
    "\n",
    "axs = axes[3]\n",
    "axs.set_title(\"Shawnigan Lake\")\n",
    "axs.plot(ShawniganLake.times, ShawniganLake.temperature, 'g')\n",
    "axs.set_xticks(ticks)\n",
    "axs.set_xticklabels(tickLabels)\n",
    "\n",
    "axs = axes[4]\n",
    "axs.set_title(\"Cumberland\")\n",
    "axs.plot(Cumberland.times, Cumberland.temperature, 'y')\n",
    "axs.set_xticks(ticks)\n",
    "axs.set_xticklabels(tickLabels)\n",
    "\n",
    "fig.supylabel(yTitle)\n",
    "fig.supxlabel(xTitle)\n",
    "# fig.savefig('../Figures/Temperature_plot_allTimes.jpeg')\n",
    "\n",
    "plt.show()"
   ]
  },
  {
   "cell_type": "code",
   "execution_count": null,
   "id": "87bce477-77c6-48a9-8f3c-944ee76644cf",
   "metadata": {},
   "outputs": [],
   "source": [
    "# Plotting time series of pressure for all stations\n",
    "fig, axes = plt.subplots(5, 1, figsize=(12, 16), tight_layout=True)\n",
    "fig.suptitle(\"Surface Pressure Plot for all Stations\", y=.99, fontsize=18)\n",
    "\n",
    "\n",
    "xTitle = 'Time [MM/YYYY]'\n",
    "yTitle = \"Pressure [$hPa$]\"\n",
    "\n",
    "axs = axes[0]\n",
    "axs.set_title(\"UVic Science Building\")\n",
    "axs.plot(UVicSci.times, UVicSci.pressure)\n",
    "axs.set_xticks(ticks)\n",
    "axs.set_xticklabels(tickLabels)\n",
    "\n",
    "axs = axes[1]\n",
    "axs.set_title(\"Monterey\")\n",
    "axs.plot(Monterey.times, Monterey.pressure, 'r')\n",
    "axs.set_xticks(ticks)\n",
    "axs.set_xticklabels(tickLabels)\n",
    "\n",
    "axs = axes[2]\n",
    "axs.set_title(\"Craigflower\")\n",
    "axs.plot(Craigflower.times, Craigflower.pressure, 'm')\n",
    "axs.set_xticks(ticks)\n",
    "axs.set_xticklabels(tickLabels)\n",
    "\n",
    "axs = axes[3]\n",
    "axs.set_title(\"Shawnigan Lake\")\n",
    "axs.plot(ShawniganLake.times, ShawniganLake.pressure, 'g')\n",
    "axs.set_xticks(ticks)\n",
    "axs.set_xticklabels(tickLabels)\n",
    "\n",
    "axs = axes[4]\n",
    "axs.set_title(\"Cumberland\")\n",
    "axs.plot(Cumberland.times, Cumberland.pressure, 'y')\n",
    "axs.set_xticks(ticks)\n",
    "axs.set_xticklabels(tickLabels)\n",
    "\n",
    "fig.supylabel(yTitle)\n",
    "fig.supxlabel(xTitle)\n",
    "# fig.savefig('../Figures/Pressure_plot_allTimes.jpeg')\n",
    "plt.show()"
   ]
  },
  {
   "cell_type": "code",
   "execution_count": null,
   "id": "a22b1329-8053-450c-a64b-b6038bbcad1e",
   "metadata": {},
   "outputs": [],
   "source": []
  }
 ],
 "metadata": {
  "kernelspec": {
   "display_name": "Python 3 (ipykernel)",
   "language": "python",
   "name": "python3"
  },
  "language_info": {
   "codemirror_mode": {
    "name": "ipython",
    "version": 3
   },
   "file_extension": ".py",
   "mimetype": "text/x-python",
   "name": "python",
   "nbconvert_exporter": "python",
   "pygments_lexer": "ipython3",
   "version": "3.9.12"
  }
 },
 "nbformat": 4,
 "nbformat_minor": 5
}
