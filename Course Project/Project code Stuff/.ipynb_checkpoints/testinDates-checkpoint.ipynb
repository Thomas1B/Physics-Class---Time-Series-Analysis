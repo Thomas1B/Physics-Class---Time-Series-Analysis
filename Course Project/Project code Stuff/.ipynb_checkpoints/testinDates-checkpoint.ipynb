{
 "cells": [
  {
   "cell_type": "markdown",
   "id": "9d34d22d-d208-463a-b29a-ea62823e822f",
   "metadata": {},
   "source": [
    "# Testin date stuff"
   ]
  },
  {
   "cell_type": "code",
   "execution_count": 1,
   "id": "e6bdb7bc-cc8e-4729-b0bc-3615d799f013",
   "metadata": {},
   "outputs": [],
   "source": [
    "import numpy as np\n",
    "from datetime import datetime\n",
    "from scipy import stats as sp_stats\n",
    "import pandas as pd"
   ]
  },
  {
   "cell_type": "code",
   "execution_count": null,
   "id": "837cae63-5605-4f82-a3f3-8cb0480b9520",
   "metadata": {},
   "outputs": [],
   "source": []
  }
 ],
 "metadata": {
  "kernelspec": {
   "display_name": "Python 3 (ipykernel)",
   "language": "python",
   "name": "python3"
  },
  "language_info": {
   "codemirror_mode": {
    "name": "ipython",
    "version": 3
   },
   "file_extension": ".py",
   "mimetype": "text/x-python",
   "name": "python",
   "nbconvert_exporter": "python",
   "pygments_lexer": "ipython3",
   "version": "3.9.12"
  }
 },
 "nbformat": 4,
 "nbformat_minor": 5
}
