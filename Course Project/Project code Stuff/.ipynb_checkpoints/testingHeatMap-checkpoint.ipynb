{
 "cells": [
  {
   "cell_type": "markdown",
   "id": "5de75ecf-94e4-44a2-b26e-0f35c669c7d2",
   "metadata": {},
   "source": [
    "# Testing Map"
   ]
  },
  {
   "cell_type": "code",
   "execution_count": null,
   "id": "3fec641b-8a28-4b46-97c9-dd33c857850c",
   "metadata": {},
   "outputs": [],
   "source": [
    "from myPyPackages import myData, myDates, myStats, mySignal, myPlots\n",
    "import numpy as np\n",
    "import matplotlib.pyplot as plt\n",
    "import pandas as pd\n",
    "\n",
    "import scipy.stats as sp_stats\n",
    "from scipy import signal\n",
    "from scipy import interpolate"
   ]
  },
  {
   "cell_type": "markdown",
   "id": "75edc248-54b7-4074-aee4-30b6467e29c6",
   "metadata": {},
   "source": [
    "# "
   ]
  },
  {
   "cell_type": "code",
   "execution_count": null,
   "id": "685c1dc1-041c-47a7-8f59-713125903f74",
   "metadata": {},
   "outputs": [],
   "source": [
    "FILEPATH = '../../Data/{}'\n",
    "Stations = ['Bowser', 'Cortes', 'Craigflower', 'Cumberland', 'HappyValley',\n",
    "            'JamesBay', 'Macaulay', 'Monterey', 'Phoenix', 'RVYC', \n",
    "            'Rogers', 'ShawniganLake', 'Strawberry', 'UVicSci', 'VIU']\n",
    "\n",
    "data = pd.read_csv('../../Data/All_hourly_temperature_data_2022.dat', sep=\"\\s+\", names=[\"times\"]+Stations, header=2)\n",
    "data.times -= (7/24)\n",
    "\n",
    "# Dates for desired range of data.\n",
    "start1 = myDates.DateStrtoNum('29/06/2021, 00:00', dtype='hr')\n",
    "end1 = myDates.DateStrtoNum('29/06/2021, 23:00', dtype='hr')\n",
    "start2 = myDates.DateStrtoNum('29/06/2022, 00:00', dtype='hr')\n",
    "end2 = myDates.DateStrtoNum('29/06/2022, 23:00', dtype='hr')\n",
    "\n",
    "data1 = myDates.getSegment(data, start1, end1).interpolate(method='cubic').dropna(axis=1)\n",
    "data2 = myDates.getSegment(data, start2, end2).interpolate(method='cubic').dropna(axis=1)\n",
    "\n",
    "\n",
    "# Averages\n",
    "avg_data1 = data1.mean().drop('times')\n",
    "avg_data2 = data2.mean().drop('times')"
   ]
  },
  {
   "cell_type": "markdown",
   "id": "7e02b675-12bc-409d-aa7a-3962f705da9e",
   "metadata": {},
   "source": [
    "# Testing"
   ]
  },
  {
   "cell_type": "code",
   "execution_count": null,
   "id": "a09e2db5-7f86-4589-a783-9351bdc2a876",
   "metadata": {},
   "outputs": [],
   "source": [
    "def applyGrid(data, stationInfo, grid, method=''):\n",
    "    '''\n",
    "    Function to apply a scipy griddata and interpolation for making a heatmap.\n",
    "    \n",
    "    Parameters:\n",
    "        data: data to be analized.\n",
    "        StationInfo (DataFrame): dataframe of stations' info.\n",
    "        grid (tuple): grid cells (x, y)-axis.\n",
    "        method (str): method to use for the intepolation, default = cubic.\n",
    "        \n",
    "    Returns: (tuple): (xi, yi, zi, coastline, locs)\n",
    "        xi & yi: arrays representing the coordinates of a grid.\n",
    "        coastline: DataFrame for the coastline.\n",
    "        locs: DataFrame for station locations. \n",
    "        \n",
    "    '''\n",
    "    coastline = myData.readCoastLine() # getting coastal line.\n",
    "    \n",
    "    # Getting min and max for long and lati for gridding.\n",
    "    min_long, min_lat = coastline.min()\n",
    "    max_long, max_lat = coastline.max()\n",
    "\n",
    "    # Creating grids for gridding data.\n",
    "    xi = np.linspace(min_long, max_long, int(grid[0]))\n",
    "    yi = np.linspace(min_lat, max_lat, int(grid[1]))\n",
    "    xi, yi = np.meshgrid(xi, yi)\n",
    "    \n",
    "    if method == '':\n",
    "        method = 'cubic'\n",
    "    \n",
    "    locs = pd.concat([stationInfo.long, stationInfo.lati], axis=1)\n",
    "    \n",
    "    # Doing the interpolation.\n",
    "    zi = interpolate.griddata(locs, data, (xi, yi), method=method)\n",
    "    return xi, yi, zi, coastline, locs\n",
    "\n",
    "def plot_heatmap(data,\n",
    "                 title='',\n",
    "                 style='pcolor',\n",
    "                 fontsize=12,\n",
    "                 axisLimits=False):\n",
    "    '''\n",
    "    Function to plot a heat map after apply a scipy griddata.\n",
    "    \n",
    "    Parameters:\n",
    "        data (tuple): (xi, yi, zi, coastline, locs) *see applyGrid()\n",
    "        title (str): title of map.\n",
    "        style (str): style used for coloring map (pcolor, contourf) default pcolor.\n",
    "        fontsize (int): fontsize to use for labels default 12.\n",
    "        axisLimits (bool): to apply axis limits on the plot, default False.\n",
    "    '''\n",
    "    xi, yi, zi, VI_coast, stations = data\n",
    "    \n",
    "    # Creating the Heatmap\n",
    "    ax = plt.axes()\n",
    "    ax.set_facecolor('steelblue') # coloring ocean.\n",
    "\n",
    "    plt.plot(VI_coast.long, VI_coast.lat, color=\"k\", linewidth=0.5) # plotting land\n",
    "    plt.fill(VI_coast.long, VI_coast.lat, zorder=0, color=\"olivedrab\") # coloring land\n",
    "    \n",
    "   \n",
    "    # Coloring heat map\n",
    "    cmap = plt.get_cmap('jet')\n",
    "    if style == 'contourf':\n",
    "        c = plt.contourf(xi, yi, zi, 15, cmap=cmap)\n",
    "    else:\n",
    "        c = plt.pcolor(xi, yi, zi, cmap=cmap)\n",
    "    \n",
    "    plt.colorbar(c) # adding a color bar.\n",
    "    plt.scatter(stations.long, stations.lati, color='white', edgecolor='r', label='Station')  # plotting station locations.\n",
    "    \n",
    "    # limits for plot\n",
    "    if axisLimits:\n",
    "        station_info = myData.getStationInfo()\n",
    "        maxs = station_info.max()[1:3] + 0.05\n",
    "        mins = station_info.min()[1:3] - 0.05\n",
    "        plt.xlim(mins.long)\n",
    "        plt.ylim(mins.lati, maxs.lati)\n",
    "    plt.title(title, fontsize=fontsize+4, pad=10)\n",
    "    plt.xlabel(\"Longtitude [$^{\\circ}$ $W$]\", fontsize=fontsize, labelpad=10)\n",
    "    plt.ylabel('Latitude [$^{\\circ}$ $N$]', fontsize=fontsize, labelpad=10)\n",
    "    plt.legend(fontsize=fontsize)"
   ]
  },
  {
   "cell_type": "code",
   "execution_count": null,
   "id": "e6d99372-6086-4667-ae2a-fd41835f61d6",
   "metadata": {},
   "outputs": [],
   "source": [
    "grid_EW = 1000\n",
    "grid_NS = 1000\n",
    "\n",
    "station_info = myData.getStationInfo()   \n",
    "info1 = myData.removeStationInfo('Macaulay')\n",
    "\n",
    "plt.figure(figsize=(8, 5), tight_layout=True)\n",
    "grid = applyGrid(avg_data1, info1, grid=(grid_EW, grid_NS), method='cubic')\n",
    "plot_heatmap(grid,\n",
    "            title=\"test\",\n",
    "            style='pcolor',\n",
    "            axisLimits=True)"
   ]
  },
  {
   "cell_type": "code",
   "execution_count": null,
   "id": "1ba4f7cd-af4d-4dc5-b4bb-f6abf17e384b",
   "metadata": {},
   "outputs": [],
   "source": []
  }
 ],
 "metadata": {
  "kernelspec": {
   "display_name": "Python 3 (ipykernel)",
   "language": "python",
   "name": "python3"
  },
  "language_info": {
   "codemirror_mode": {
    "name": "ipython",
    "version": 3
   },
   "file_extension": ".py",
   "mimetype": "text/x-python",
   "name": "python",
   "nbconvert_exporter": "python",
   "pygments_lexer": "ipython3",
   "version": "3.9.12"
  }
 },
 "nbformat": 4,
 "nbformat_minor": 5
}
