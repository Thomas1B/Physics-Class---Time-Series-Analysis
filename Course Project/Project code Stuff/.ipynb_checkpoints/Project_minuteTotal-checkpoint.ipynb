{
 "cells": [
  {
   "cell_type": "markdown",
   "id": "34ec4d65-591f-46a8-84f3-dc6d430a754a",
   "metadata": {},
   "source": [
    "# Minute resolution data Part of Project\n",
    "\n",
    "## Total Record Length"
   ]
  },
  {
   "cell_type": "code",
   "execution_count": 1,
   "id": "717712a0-436b-448f-bb7d-71cbf317fb0c",
   "metadata": {},
   "outputs": [],
   "source": [
    "from myPyPackages import myData, myDates, myStats, mySignal, myPlots # custom modules.\n",
    "import numpy as np\n",
    "import matplotlib.pyplot as plt\n",
    "from matplotlib.pyplot import cm\n",
    "import pandas as pd\n"
   ]
  },
  {
   "cell_type": "code",
   "execution_count": 2,
   "id": "f378ee3f-ec8b-4252-91d8-9fa9c158ab55",
   "metadata": {},
   "outputs": [],
   "source": [
    "# Station Names\n",
    "station_names = ['UVicSci', 'Monterey', 'Craigflower', 'ShawniganLake','Cumberland']\n",
    "\n",
    "# Other Parameters. All minute data sets share these parameters.\n",
    "START = 736330.0     # start date \n",
    "END = 738733.99931   # end date\n",
    "N = 3461760          # number of data points\n",
    "\n",
    "# Reading in Station info\n",
    "Station_info = [myData.getStationInfo(station) for station in station_names]\n",
    "UVicSci_info, Monterey_info, Craigflower_info, ShawniganLake_info, Cumberland_info = Station_info\n",
    "\n",
    "# Reading in Minute data for all stations\n",
    "data = [myData.readMinuteData(station) for station in station_names]\n",
    "# Analyzing data only from 2021\n",
    "# s1 = myDates.DateStrtoNum('01/01/2021', dtype='min')\n",
    "s1 = 738157\n",
    "e1 = myDates.DateStrtoNum('31/12/2021, 23:59', dtype='min')\n",
    "\n",
    "data_2021 = [myDates.getRange(d, s1, e1) for d in data]\n",
    "UVicSci_data, Monterey_data, Craigflower_data, ShawniganLake_data, Cumberland_data = data_2021 \n",
    "# Total Record Length"
   ]
  },
  {
   "cell_type": "code",
   "execution_count": 3,
   "id": "75d42367-5ffd-477d-b9a6-3200f9e9f84a",
   "metadata": {},
   "outputs": [],
   "source": [
    "fs = 14 # fontsize\n",
    "\n",
    "# Making ticks for axis\n",
    "ticks = np.linspace(START, END, 6)\n",
    "m = [myDates.DateNumtoStr(t, 'min').split('/')[1] for t in ticks]\n",
    "y = [myDates.DateNumtoStr(t, 'min').split('/')[-1] for t in ticks]\n",
    "tickLabels = [i + '/' + j for i, j in zip(m, y)]\n",
    "\n",
    "# Plotting time series of temperature for all stations\n",
    "fig, axes = plt.subplots(5, 1, figsize=(12, 16), tight_layout=True)\n",
    "fig.suptitle(\"Temperature Plot for all Stations\",  y=.99, fontsize=18)\n",
    "\n",
    "xTitle = 'Time [MM/YYYY]'\n",
    "yTitle = \"Temperature [$^{\\circ} C$]\"\n",
    "fig.supylabel(yTitle, fontsize = fs)\n",
    "fig.supxlabel(xTitle, fontsize = fs)\n",
    "\n",
    "N = len(station_names)\n",
    "colors = cm.rainbow(np.linspace(0, 1, N))\n",
    "for i in range(N):\n",
    "    axs = axes[i]\n",
    "    axs.set_title(station_names[i], fontsize = fs + 2)\n",
    "    axs.plot(data[i].times, data[i].temperature, color = colors[i])\n",
    "    axs.set_xticks(ticks)\n",
    "    axs.set_xticklabels(tickLabels)\n",
    "\n",
    "# plt.savefig('../Figures/Minute/Temperature_plot_allTimes_minute.jpeg')\n",
    "\n",
    "# plt.show()\n",
    "plt.close()"
   ]
  },
  {
   "cell_type": "code",
   "execution_count": 4,
   "id": "7925bea5-308a-414e-9ae6-7fc7d287dc3c",
   "metadata": {},
   "outputs": [],
   "source": [
    "# Plotting time series of pressure for all stations\n",
    "fig, axes = plt.subplots(5, 1, figsize=(12, 16), tight_layout=True)\n",
    "fig.suptitle(\"Surface Pressure Plot for all Stations\", y=.99, fontsize=18)\n",
    "\n",
    "\n",
    "xTitle = 'Time [MM/YYYY]'\n",
    "yTitle = \"Pressure [$hPa$]\"\n",
    "fig.supylabel(yTitle, fontsize = fs)\n",
    "fig.supxlabel(xTitle, fontsize = fs)\n",
    "\n",
    "N = len(station_names)\n",
    "colors = cm.rainbow(np.linspace(0, 1, N))\n",
    "for i in range(N):\n",
    "    axs = axes[i]\n",
    "    axs.set_title(station_names[i], fontsize = fs + 2)\n",
    "    axs.plot(data[i].times, data[i].pressure, color=colors[i])\n",
    "    axs.set_xticks(ticks)\n",
    "    axs.set_xticklabels(tickLabels)\n",
    "\n",
    "# plt.savefig('../Figures/Minute/Pressure_plot_allTimes_minute.jpeg')\n",
    "\n",
    "# plt.show()\n",
    "plt.close() "
   ]
  },
  {
   "cell_type": "code",
   "execution_count": 5,
   "id": "612e2c55",
   "metadata": {},
   "outputs": [
    {
     "name": "stdout",
     "output_type": "stream",
     "text": [
      "For Total Record Length\n",
      "avg T, avg P, STD T, STD P, \n",
      "var T, Var P\n",
      "\n",
      "UVicSci: \n",
      "11.31 5.68 1015.53 7.41\n",
      "32.26 54.87\n",
      "\n",
      "Monterey: \n",
      "10.75 4.93 1008.31 22.82\n",
      "24.32 520.63\n",
      "\n",
      "Craigflower: \n",
      "10.88 6.11 1015.57 7.41\n",
      "37.28 54.93\n",
      "\n",
      "ShawniganLake: \n",
      "9.98 7.36 1015.65 7.44\n",
      "54.22 55.35\n",
      "\n",
      "Cumberland: \n",
      "9.62 7.35 1017.00 7.74\n",
      "54.02 59.88\n",
      "\n"
     ]
    }
   ],
   "source": [
    "print(\"For Total Record Length\")\n",
    "myData.getBasicStats(data, station_names)\n"
   ]
  },
  {
   "cell_type": "code",
   "execution_count": null,
   "id": "ae0460d7-00b9-464f-8f57-295360f04169",
   "metadata": {},
   "outputs": [],
   "source": []
  }
 ],
 "metadata": {
  "kernelspec": {
   "display_name": "Python 3 (ipykernel)",
   "language": "python",
   "name": "python3"
  },
  "language_info": {
   "codemirror_mode": {
    "name": "ipython",
    "version": 3
   },
   "file_extension": ".py",
   "mimetype": "text/x-python",
   "name": "python",
   "nbconvert_exporter": "python",
   "pygments_lexer": "ipython3",
   "version": "3.9.12"
  },
  "vscode": {
   "interpreter": {
    "hash": "80f0ca567e8a8332be8d0227e77114b80c729e82298f4777b19db59a6217bb0d"
   }
  }
 },
 "nbformat": 4,
 "nbformat_minor": 5
}
