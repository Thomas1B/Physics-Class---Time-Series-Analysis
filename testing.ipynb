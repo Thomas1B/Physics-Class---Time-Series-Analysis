{
 "cells": [
  {
   "cell_type": "markdown",
   "metadata": {},
   "source": [
    "# File for testing modules."
   ]
  },
  {
   "cell_type": "code",
   "execution_count": 1,
   "metadata": {},
   "outputs": [],
   "source": [
    "import numpy as np\n",
    "import matplotlib.pyplot as plt\n",
    "\n",
    "import myData\n",
    "import myPlots\n",
    "import mySignal\n",
    "import myStats"
   ]
  },
  {
   "cell_type": "code",
   "execution_count": 2,
   "metadata": {},
   "outputs": [
    {
     "name": "stdout",
     "output_type": "stream",
     "text": [
      "readCoastLine\n",
      "\n",
      "    Function to read in the coast line data.\n",
      "    Parameters: None\n",
      "    Returns:\n",
      "        pd dataframe of longitude and latitude.\n",
      "    \n",
      "readMinuteData\n",
      "\n",
      "    Function to read in minute resolution data and return a pandas dataframe.\n",
      "    Parameters:\n",
      "        filepath (str): name of station.\n",
      "    Returns:\n",
      "        pd dataframe of times, temperature and pressure\n",
      "    \n",
      "readHourData\n",
      "\n",
      "    Function to read hour resolution data given a filepath.\n",
      "    Parameters:\n",
      "        col_index (int): index referring to which station used.\n",
      "             0. Bowser.\n",
      "             1. Cortes.\n",
      "             2. Craigflower.\n",
      "             3. Cumberland.\n",
      "             4. HappyValley.\n",
      "             5. JamesBay.\n",
      "             6. Macaulay.\n",
      "             7. Monterey.\n",
      "             8. Phoenix.\n",
      "             9. RVYC.\n",
      "            10. Rogers.\n",
      "            11. ShawniganLake.\n",
      "            12. Strawberry.\n",
      "            13. UVicSci.\n",
      "            14. VIU.\n",
      "\n",
      "    Returns:\n",
      "        : pandas frame of data, (timestamp, temp, press)\n",
      "    \n",
      "getStationInfo\n",
      "\n",
      "    Function to get a station's longtitude, latitude and elevation.\n",
      "\n",
      "    Parameters:\n",
      "        station (str) Optional: name of station. default returns dataframe for all stations\n",
      "    Returns:\n",
      "        Pandas dataframe of long, lat, and elev.\n",
      "\n",
      "    \n",
      "removeStation\n",
      "\n",
      "    Function to remove a station from a DataFrame of all stations' location info.\n",
      "\n",
      "    Returns: DataFrame of stations' info.\n",
      "\n",
      "    Parameters:\n",
      "        name (str): name of Station to be deleted.\n",
      "             0. Bowser.\n",
      "             1. Cortes.\n",
      "             2. Craigflower.\n",
      "             3. Cumberland.\n",
      "             4. HappyValley.\n",
      "             5. JamesBay.\n",
      "             6. Macaulay.\n",
      "             7. Monterey.\n",
      "             8. Phoenix.\n",
      "             9. RVYC.\n",
      "            10. Rogers.\n",
      "            11. ShawniganLake.\n",
      "            12. Strawberry.\n",
      "            13. UVicSci.\n",
      "            14. VIU.\n",
      "    \n"
     ]
    }
   ],
   "source": [
    "for func in myData.function_list:\n",
    "    print(func.__name__)\n",
    "    print(func.__doc__)"
   ]
  },
  {
   "cell_type": "code",
   "execution_count": null,
   "metadata": {},
   "outputs": [],
   "source": []
  }
 ],
 "metadata": {
  "kernelspec": {
   "display_name": "Python 3.10.6 64-bit",
   "language": "python",
   "name": "python3"
  },
  "language_info": {
   "codemirror_mode": {
    "name": "ipython",
    "version": 3
   },
   "file_extension": ".py",
   "mimetype": "text/x-python",
   "name": "python",
   "nbconvert_exporter": "python",
   "pygments_lexer": "ipython3",
   "version": "3.10.6"
  },
  "orig_nbformat": 4,
  "vscode": {
   "interpreter": {
    "hash": "80f0ca567e8a8332be8d0227e77114b80c729e82298f4777b19db59a6217bb0d"
   }
  }
 },
 "nbformat": 4,
 "nbformat_minor": 2
}
