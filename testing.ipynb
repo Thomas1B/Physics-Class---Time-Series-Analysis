{
 "cells": [
  {
   "cell_type": "markdown",
   "metadata": {},
   "source": [
    "# File for testing modules."
   ]
  },
  {
   "cell_type": "code",
   "execution_count": 1,
   "metadata": {},
   "outputs": [],
   "source": [
    "import numpy as np\n",
    "import matplotlib.pyplot as plt\n",
    "from main_functions import *\n",
    "\n",
    "import myData\n",
    "import myPlots\n",
    "import mySignal\n",
    "import myStats"
   ]
  },
  {
   "cell_type": "code",
   "execution_count": null,
   "metadata": {},
   "outputs": [],
   "source": []
  },
  {
   "cell_type": "code",
   "execution_count": 2,
   "metadata": {},
   "outputs": [
    {
     "name": "stdout",
     "output_type": "stream",
     "text": [
      "List of available functions:\n",
      " 1: readCoastLine\n",
      " 2: readMinuteData\n",
      " 3: readHourData\n",
      " 4: getStationInfo\n",
      " 5: removeStation\n"
     ]
    }
   ],
   "source": [
    "showModules(myData)"
   ]
  },
  {
   "cell_type": "code",
   "execution_count": 3,
   "metadata": {},
   "outputs": [
    {
     "name": "stdout",
     "output_type": "stream",
     "text": [
      "List of available functions:\n",
      " 1: applyGridInterp\n",
      " 2: GetNS_NFFT\n",
      " 3: PowerSpectrum\n"
     ]
    }
   ],
   "source": [
    "showModules(mySignal)"
   ]
  },
  {
   "cell_type": "code",
   "execution_count": 4,
   "metadata": {},
   "outputs": [
    {
     "name": "stdout",
     "output_type": "stream",
     "text": [
      "\u001b[1;31mSignature:\u001b[0m \u001b[0mmySignal\u001b[0m\u001b[1;33m.\u001b[0m\u001b[0mapplyGridInterp\u001b[0m\u001b[1;33m(\u001b[0m\u001b[0mdata\u001b[0m\u001b[1;33m,\u001b[0m \u001b[0mstationInfo\u001b[0m\u001b[1;33m,\u001b[0m \u001b[0mgrid\u001b[0m\u001b[1;33m,\u001b[0m \u001b[0mmethod\u001b[0m\u001b[1;33m=\u001b[0m\u001b[1;34m''\u001b[0m\u001b[1;33m)\u001b[0m\u001b[1;33m\u001b[0m\u001b[1;33m\u001b[0m\u001b[0m\n",
      "\u001b[1;31mDocstring:\u001b[0m\n",
      "Function to apply a scipy griddata and interpolation for making a heatmap.\n",
      "\n",
      "Parameters:\n",
      "    data: data to be analized.\n",
      "    StationInfo (DataFrame): dataframe of stations' info.\n",
      "    grid (tuple): grid cells (x, y)-axis.\n",
      "    method (str): method to use for the intepolation, default = cubic.\n",
      "\n",
      "Returns: (tuple): (xi, yi, zi, coastline, locs)\n",
      "    xi & yi: arrays representing the coordinates of a grid.\n",
      "    coastline: DataFrame for the coastline.\n",
      "    locs: DataFrame for station locations.\n",
      "\u001b[1;31mFile:\u001b[0m      c:\\users\\thomas\\mylocalfiles\\mypypackages\\mysignal.py\n",
      "\u001b[1;31mType:\u001b[0m      function\n"
     ]
    }
   ],
   "source": [
    "mySignal.applyGridInterp?"
   ]
  },
  {
   "cell_type": "code",
   "execution_count": null,
   "metadata": {},
   "outputs": [],
   "source": []
  }
 ],
 "metadata": {
  "kernelspec": {
   "display_name": "Python 3.10.6 64-bit",
   "language": "python",
   "name": "python3"
  },
  "language_info": {
   "codemirror_mode": {
    "name": "ipython",
    "version": 3
   },
   "file_extension": ".py",
   "mimetype": "text/x-python",
   "name": "python",
   "nbconvert_exporter": "python",
   "pygments_lexer": "ipython3",
   "version": "3.10.6"
  },
  "orig_nbformat": 4,
  "vscode": {
   "interpreter": {
    "hash": "80f0ca567e8a8332be8d0227e77114b80c729e82298f4777b19db59a6217bb0d"
   }
  }
 },
 "nbformat": 4,
 "nbformat_minor": 2
}
