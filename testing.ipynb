{
 "cells": [
  {
   "cell_type": "markdown",
   "metadata": {},
   "source": [
    "# File for testing modules."
   ]
  },
  {
   "cell_type": "code",
   "execution_count": 3,
   "metadata": {},
   "outputs": [],
   "source": [
    "import numpy as np\n",
    "import matplotlib.pyplot as plt\n",
    "from master_functions import showModules\n",
    "\n",
    "import myData\n",
    "# import myDates\n",
    "# import myPlots\n",
    "# import mySignal\n",
    "# import myStats"
   ]
  },
  {
   "cell_type": "code",
   "execution_count": 4,
   "metadata": {},
   "outputs": [
    {
     "name": "stdout",
     "output_type": "stream",
     "text": [
      "List of available functions:\n",
      "   1: readCoastLine\n",
      "   2: readMinuteData\n",
      "   3: readHourData\n",
      "   4: getStationInfo\n",
      "   5: removeStation\n"
     ]
    }
   ],
   "source": [
    "showModules(myData)"
   ]
  },
  {
   "cell_type": "code",
   "execution_count": 3,
   "metadata": {},
   "outputs": [
    {
     "name": "stdout",
     "output_type": "stream",
     "text": [
      "List of available functions:\n",
      "   1: DateStrtoNum\n",
      "   2: NumToStr\n",
      "   3: DateNumtoStr\n",
      "   4: getRange\n"
     ]
    }
   ],
   "source": [
    "showModules(myDates)"
   ]
  },
  {
   "cell_type": "code",
   "execution_count": null,
   "metadata": {},
   "outputs": [],
   "source": []
  }
 ],
 "metadata": {
  "kernelspec": {
   "display_name": "Python 3.10.6 64-bit",
   "language": "python",
   "name": "python3"
  },
  "language_info": {
   "codemirror_mode": {
    "name": "ipython",
    "version": 3
   },
   "file_extension": ".py",
   "mimetype": "text/x-python",
   "name": "python",
   "nbconvert_exporter": "python",
   "pygments_lexer": "ipython3",
   "version": "3.10.6"
  },
  "orig_nbformat": 4,
  "vscode": {
   "interpreter": {
    "hash": "80f0ca567e8a8332be8d0227e77114b80c729e82298f4777b19db59a6217bb0d"
   }
  }
 },
 "nbformat": 4,
 "nbformat_minor": 2
}
