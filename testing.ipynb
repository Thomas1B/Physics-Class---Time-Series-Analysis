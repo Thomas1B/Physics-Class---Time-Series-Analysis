{
 "cells": [
  {
   "cell_type": "markdown",
   "metadata": {},
   "source": [
    "# File for testing modules."
   ]
  },
  {
   "cell_type": "code",
   "execution_count": 1,
   "metadata": {},
   "outputs": [],
   "source": [
    "import numpy as np\n",
    "import matplotlib.pyplot as plt\n",
    "\n",
    "import myData\n",
    "import myPlots\n",
    "import mySignal\n",
    "import myStats"
   ]
  },
  {
   "cell_type": "code",
   "execution_count": 2,
   "metadata": {},
   "outputs": [
    {
     "name": "stdout",
     "output_type": "stream",
     "text": [
      "readCoastLine\n",
      "\n",
      "    Function to read in the coast line data.\n",
      "    Parameters: None\n",
      "    Returns:\n",
      "        pd dataframe of longitude and latitude.\n",
      "    \n"
     ]
    }
   ],
   "source": [
    "for func in myData.function_list:\n",
    "    print(func.__name__)\n",
    "    print(func.__doc__)"
   ]
  },
  {
   "cell_type": "code",
   "execution_count": 4,
   "metadata": {},
   "outputs": [
    {
     "data": {
      "text/html": [
       "<div>\n",
       "<style scoped>\n",
       "    .dataframe tbody tr th:only-of-type {\n",
       "        vertical-align: middle;\n",
       "    }\n",
       "\n",
       "    .dataframe tbody tr th {\n",
       "        vertical-align: top;\n",
       "    }\n",
       "\n",
       "    .dataframe thead th {\n",
       "        text-align: right;\n",
       "    }\n",
       "</style>\n",
       "<table border=\"1\" class=\"dataframe\">\n",
       "  <thead>\n",
       "    <tr style=\"text-align: right;\">\n",
       "      <th></th>\n",
       "      <th>station</th>\n",
       "      <th>long</th>\n",
       "      <th>lati</th>\n",
       "      <th>elev</th>\n",
       "    </tr>\n",
       "  </thead>\n",
       "  <tbody>\n",
       "    <tr>\n",
       "      <th>0</th>\n",
       "      <td>Bowser</td>\n",
       "      <td>235.301</td>\n",
       "      <td>49.4459</td>\n",
       "      <td>69</td>\n",
       "    </tr>\n",
       "    <tr>\n",
       "      <th>1</th>\n",
       "      <td>Cortes</td>\n",
       "      <td>235.017</td>\n",
       "      <td>50.0599</td>\n",
       "      <td>75</td>\n",
       "    </tr>\n",
       "    <tr>\n",
       "      <th>2</th>\n",
       "      <td>Craigflower</td>\n",
       "      <td>236.579</td>\n",
       "      <td>48.4537</td>\n",
       "      <td>6</td>\n",
       "    </tr>\n",
       "    <tr>\n",
       "      <th>3</th>\n",
       "      <td>Cumberland</td>\n",
       "      <td>234.967</td>\n",
       "      <td>49.6212</td>\n",
       "      <td>179</td>\n",
       "    </tr>\n",
       "    <tr>\n",
       "      <th>4</th>\n",
       "      <td>HappyValley</td>\n",
       "      <td>236.471</td>\n",
       "      <td>48.4281</td>\n",
       "      <td>74</td>\n",
       "    </tr>\n",
       "    <tr>\n",
       "      <th>5</th>\n",
       "      <td>JamesBay</td>\n",
       "      <td>236.620</td>\n",
       "      <td>48.4169</td>\n",
       "      <td>7</td>\n",
       "    </tr>\n",
       "    <tr>\n",
       "      <th>6</th>\n",
       "      <td>Macaulay</td>\n",
       "      <td>236.595</td>\n",
       "      <td>48.4253</td>\n",
       "      <td>21</td>\n",
       "    </tr>\n",
       "    <tr>\n",
       "      <th>7</th>\n",
       "      <td>Monterey</td>\n",
       "      <td>236.686</td>\n",
       "      <td>48.4182</td>\n",
       "      <td>12</td>\n",
       "    </tr>\n",
       "    <tr>\n",
       "      <th>8</th>\n",
       "      <td>Phoenix</td>\n",
       "      <td>236.494</td>\n",
       "      <td>48.8503</td>\n",
       "      <td>28</td>\n",
       "    </tr>\n",
       "    <tr>\n",
       "      <th>9</th>\n",
       "      <td>RVYC</td>\n",
       "      <td>236.704</td>\n",
       "      <td>48.4519</td>\n",
       "      <td>0</td>\n",
       "    </tr>\n",
       "    <tr>\n",
       "      <th>10</th>\n",
       "      <td>Rogers</td>\n",
       "      <td>236.619</td>\n",
       "      <td>48.4744</td>\n",
       "      <td>49</td>\n",
       "    </tr>\n",
       "    <tr>\n",
       "      <th>11</th>\n",
       "      <td>ShawniganLake</td>\n",
       "      <td>236.369</td>\n",
       "      <td>48.6154</td>\n",
       "      <td>139</td>\n",
       "    </tr>\n",
       "    <tr>\n",
       "      <th>12</th>\n",
       "      <td>Strawberry</td>\n",
       "      <td>236.583</td>\n",
       "      <td>48.4776</td>\n",
       "      <td>40</td>\n",
       "    </tr>\n",
       "    <tr>\n",
       "      <th>13</th>\n",
       "      <td>UVicSci</td>\n",
       "      <td>236.691</td>\n",
       "      <td>48.4623</td>\n",
       "      <td>69</td>\n",
       "    </tr>\n",
       "    <tr>\n",
       "      <th>14</th>\n",
       "      <td>VIU</td>\n",
       "      <td>236.031</td>\n",
       "      <td>49.1567</td>\n",
       "      <td>116</td>\n",
       "    </tr>\n",
       "  </tbody>\n",
       "</table>\n",
       "</div>"
      ],
      "text/plain": [
       "          station     long     lati  elev\n",
       "0          Bowser  235.301  49.4459    69\n",
       "1          Cortes  235.017  50.0599    75\n",
       "2     Craigflower  236.579  48.4537     6\n",
       "3      Cumberland  234.967  49.6212   179\n",
       "4     HappyValley  236.471  48.4281    74\n",
       "5        JamesBay  236.620  48.4169     7\n",
       "6        Macaulay  236.595  48.4253    21\n",
       "7        Monterey  236.686  48.4182    12\n",
       "8         Phoenix  236.494  48.8503    28\n",
       "9            RVYC  236.704  48.4519     0\n",
       "10         Rogers  236.619  48.4744    49\n",
       "11  ShawniganLake  236.369  48.6154   139\n",
       "12     Strawberry  236.583  48.4776    40\n",
       "13        UVicSci  236.691  48.4623    69\n",
       "14            VIU  236.031  49.1567   116"
      ]
     },
     "execution_count": 4,
     "metadata": {},
     "output_type": "execute_result"
    }
   ],
   "source": [
    "myData.getStationInfo()"
   ]
  },
  {
   "cell_type": "code",
   "execution_count": null,
   "metadata": {},
   "outputs": [],
   "source": []
  }
 ],
 "metadata": {
  "kernelspec": {
   "display_name": "Python 3.10.6 64-bit",
   "language": "python",
   "name": "python3"
  },
  "language_info": {
   "codemirror_mode": {
    "name": "ipython",
    "version": 3
   },
   "file_extension": ".py",
   "mimetype": "text/x-python",
   "name": "python",
   "nbconvert_exporter": "python",
   "pygments_lexer": "ipython3",
   "version": "3.10.6"
  },
  "orig_nbformat": 4,
  "vscode": {
   "interpreter": {
    "hash": "80f0ca567e8a8332be8d0227e77114b80c729e82298f4777b19db59a6217bb0d"
   }
  }
 },
 "nbformat": 4,
 "nbformat_minor": 2
}
