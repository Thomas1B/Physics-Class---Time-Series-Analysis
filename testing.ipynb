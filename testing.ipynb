{
 "cells": [
  {
   "cell_type": "markdown",
   "metadata": {},
   "source": [
    "# File for testing modules."
   ]
  },
  {
   "cell_type": "code",
   "execution_count": 1,
   "metadata": {},
   "outputs": [],
   "source": [
    "import numpy as np\n",
    "import matplotlib.pyplot as plt\n",
    "from main_functions import *\n",
    "\n",
    "import myData\n",
    "import myPlots\n",
    "import mySignal\n",
    "import myStats"
   ]
  },
  {
   "cell_type": "code",
   "execution_count": 2,
   "metadata": {},
   "outputs": [
    {
     "name": "stdout",
     "output_type": "stream",
     "text": [
      "List of available functions:\n",
      "   1: readCoastLine\n",
      "   2: readMinuteData\n",
      "   3: readHourData\n",
      "   4: getStationInfo\n",
      "   5: removeStation\n"
     ]
    }
   ],
   "source": [
    "showModules(myData)"
   ]
  },
  {
   "cell_type": "code",
   "execution_count": 3,
   "metadata": {},
   "outputs": [
    {
     "name": "stdout",
     "output_type": "stream",
     "text": [
      "\u001b[1;31mSignature:\u001b[0m \u001b[0mmyData\u001b[0m\u001b[1;33m.\u001b[0m\u001b[0mremoveStation\u001b[0m\u001b[1;33m(\u001b[0m\u001b[0mname\u001b[0m\u001b[1;33m)\u001b[0m\u001b[1;33m\u001b[0m\u001b[1;33m\u001b[0m\u001b[0m\n",
      "\u001b[1;31mDocstring:\u001b[0m\n",
      "Function to remove a station from a DataFrame of all stations' location info.\n",
      "\n",
      "Returns: DataFrame of stations' info.\n",
      "\n",
      "Parameters:\n",
      "    name (str): name of Station to be deleted.\n",
      "         0. Bowser.\n",
      "         1. Cortes.\n",
      "         2. Craigflower.\n",
      "         3. Cumberland.\n",
      "         4. HappyValley.\n",
      "         5. JamesBay.\n",
      "         6. Macaulay.\n",
      "         7. Monterey.\n",
      "         8. Phoenix.\n",
      "         9. RVYC.\n",
      "        10. Rogers.\n",
      "        11. ShawniganLake.\n",
      "        12. Strawberry.\n",
      "        13. UVicSci.\n",
      "        14. VIU.\n",
      "\u001b[1;31mFile:\u001b[0m      c:\\users\\thomas\\mylocalfiles\\mypypackages\\mydata.py\n",
      "\u001b[1;31mType:\u001b[0m      function\n"
     ]
    }
   ],
   "source": [
    "myData.removeStation?"
   ]
  },
  {
   "cell_type": "code",
   "execution_count": null,
   "metadata": {},
   "outputs": [],
   "source": []
  }
 ],
 "metadata": {
  "kernelspec": {
   "display_name": "Python 3.10.6 64-bit",
   "language": "python",
   "name": "python3"
  },
  "language_info": {
   "codemirror_mode": {
    "name": "ipython",
    "version": 3
   },
   "file_extension": ".py",
   "mimetype": "text/x-python",
   "name": "python",
   "nbconvert_exporter": "python",
   "pygments_lexer": "ipython3",
   "version": "3.10.6"
  },
  "orig_nbformat": 4,
  "vscode": {
   "interpreter": {
    "hash": "80f0ca567e8a8332be8d0227e77114b80c729e82298f4777b19db59a6217bb0d"
   }
  }
 },
 "nbformat": 4,
 "nbformat_minor": 2
}
